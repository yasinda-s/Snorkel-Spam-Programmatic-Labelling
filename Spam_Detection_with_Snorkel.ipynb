{
  "nbformat": 4,
  "nbformat_minor": 0,
  "metadata": {
    "colab": {
      "provenance": [],
      "gpuType": "T4"
    },
    "kernelspec": {
      "name": "python3",
      "display_name": "Python 3"
    },
    "language_info": {
      "name": "python"
    },
    "accelerator": "GPU"
  },
  "cells": [
    {
      "cell_type": "code",
      "source": [
        "# This is a tutorial provided by SkillC"
      ],
      "metadata": {
        "id": "slM2YPOcTJpk"
      },
      "execution_count": 23,
      "outputs": []
    },
    {
      "cell_type": "code",
      "execution_count": null,
      "metadata": {
        "id": "PYQWPwVms_74"
      },
      "outputs": [],
      "source": [
        "! pip install snorkel\n",
        "! pip install utils"
      ]
    },
    {
      "cell_type": "code",
      "source": [
        "from google.colab import drive\n",
        "drive.mount(\"/content/drive\")"
      ],
      "metadata": {
        "colab": {
          "base_uri": "https://localhost:8080/"
        },
        "id": "nINUQXleu3Uz",
        "outputId": "e7da11c9-4ba7-4199-9468-aa23bf7235b9"
      },
      "execution_count": 1,
      "outputs": [
        {
          "output_type": "stream",
          "name": "stdout",
          "text": [
            "Mounted at /content/drive\n"
          ]
        }
      ]
    },
    {
      "cell_type": "code",
      "source": [
        "%cd /content/drive/My Drive/Colab Notebooks/Spam Detection/"
      ],
      "metadata": {
        "colab": {
          "base_uri": "https://localhost:8080/"
        },
        "id": "WOVhpFSzv84g",
        "outputId": "2c03460b-f5bf-4e84-fc3b-9535d4aca036"
      },
      "execution_count": 2,
      "outputs": [
        {
          "output_type": "stream",
          "name": "stdout",
          "text": [
            "/content/drive/My Drive/Colab Notebooks/Spam Detection\n"
          ]
        }
      ]
    },
    {
      "cell_type": "code",
      "source": [
        "# !git clone https://github.com/snorkel-team/snorkel-tutorials.git\n",
        "# Change : snorkel-tutorials -> snorkeltutorials"
      ],
      "metadata": {
        "colab": {
          "base_uri": "https://localhost:8080/"
        },
        "id": "F6DOOInTvQG9",
        "outputId": "eecfa534-404c-4509-b29c-a36443633fff"
      },
      "execution_count": null,
      "outputs": [
        {
          "output_type": "stream",
          "name": "stdout",
          "text": [
            "Cloning into 'snorkel-tutorials'...\n",
            "remote: Enumerating objects: 1362, done.\u001b[K\n",
            "remote: Counting objects: 100% (303/303), done.\u001b[K\n",
            "remote: Compressing objects: 100% (122/122), done.\u001b[K\n",
            "remote: Total 1362 (delta 148), reused 266 (delta 132), pack-reused 1059\u001b[K\n",
            "Receiving objects: 100% (1362/1362), 3.56 MiB | 7.22 MiB/s, done.\n",
            "Resolving deltas: 100% (863/863), done.\n"
          ]
        }
      ]
    },
    {
      "cell_type": "code",
      "source": [
        "# Pulling the demo SPAM Dataset from Snorkel\n",
        "from snorkeltutorials.spam.utils import load_spam_dataset\n",
        "\n",
        "%cd /content/drive/My Drive/Colab Notebooks/Spam Detection/snorkeltutorials\n",
        "\n",
        "df_train, df_test = load_spam_dataset()\n",
        "\n",
        "# We pull out the label vectors for ease of use later\n",
        "Y_test = df_test.label.values"
      ],
      "metadata": {
        "id": "I5vuL1Z1vTRW",
        "colab": {
          "base_uri": "https://localhost:8080/"
        },
        "outputId": "a95aa66a-fe58-4072-f8f0-d22990e9a2f7"
      },
      "execution_count": 5,
      "outputs": [
        {
          "output_type": "stream",
          "name": "stdout",
          "text": [
            "/content/drive/My Drive/Colab Notebooks/Spam Detection/snorkeltutorials\n"
          ]
        }
      ]
    },
    {
      "cell_type": "code",
      "source": [
        "df_train.head()"
      ],
      "metadata": {
        "colab": {
          "base_uri": "https://localhost:8080/",
          "height": 206
        },
        "id": "o01Kg_Gpycah",
        "outputId": "efa8858d-7f98-4f5b-9f08-f341ab92cc8b"
      },
      "execution_count": 6,
      "outputs": [
        {
          "output_type": "execute_result",
          "data": {
            "text/plain": [
              "             author                 date  \\\n",
              "0  Alessandro leite  2014-11-05T22:21:36   \n",
              "1      Salim Tayara  2014-11-02T14:33:30   \n",
              "2           Phuc Ly  2014-01-20T15:27:47   \n",
              "3      DropShotSk8r  2014-01-19T04:27:18   \n",
              "4            css403  2014-11-07T14:25:48   \n",
              "\n",
              "                                                text  label  video  \n",
              "0  pls http://www10.vakinha.com.br/VaquinhaE.aspx...   -1.0      1  \n",
              "1  if your like drones, plz subscribe to Kamal Ta...   -1.0      1  \n",
              "2                     go here to check the views :3﻿   -1.0      1  \n",
              "3            Came here to check the views, goodbye.﻿   -1.0      1  \n",
              "4                      i am 2,126,492,636 viewer :D﻿   -1.0      1  "
            ],
            "text/html": [
              "\n",
              "  <div id=\"df-39d54793-3d2a-45c3-93f2-e5d7cecaf5ec\" class=\"colab-df-container\">\n",
              "    <div>\n",
              "<style scoped>\n",
              "    .dataframe tbody tr th:only-of-type {\n",
              "        vertical-align: middle;\n",
              "    }\n",
              "\n",
              "    .dataframe tbody tr th {\n",
              "        vertical-align: top;\n",
              "    }\n",
              "\n",
              "    .dataframe thead th {\n",
              "        text-align: right;\n",
              "    }\n",
              "</style>\n",
              "<table border=\"1\" class=\"dataframe\">\n",
              "  <thead>\n",
              "    <tr style=\"text-align: right;\">\n",
              "      <th></th>\n",
              "      <th>author</th>\n",
              "      <th>date</th>\n",
              "      <th>text</th>\n",
              "      <th>label</th>\n",
              "      <th>video</th>\n",
              "    </tr>\n",
              "  </thead>\n",
              "  <tbody>\n",
              "    <tr>\n",
              "      <th>0</th>\n",
              "      <td>Alessandro leite</td>\n",
              "      <td>2014-11-05T22:21:36</td>\n",
              "      <td>pls http://www10.vakinha.com.br/VaquinhaE.aspx...</td>\n",
              "      <td>-1.0</td>\n",
              "      <td>1</td>\n",
              "    </tr>\n",
              "    <tr>\n",
              "      <th>1</th>\n",
              "      <td>Salim Tayara</td>\n",
              "      <td>2014-11-02T14:33:30</td>\n",
              "      <td>if your like drones, plz subscribe to Kamal Ta...</td>\n",
              "      <td>-1.0</td>\n",
              "      <td>1</td>\n",
              "    </tr>\n",
              "    <tr>\n",
              "      <th>2</th>\n",
              "      <td>Phuc Ly</td>\n",
              "      <td>2014-01-20T15:27:47</td>\n",
              "      <td>go here to check the views :3﻿</td>\n",
              "      <td>-1.0</td>\n",
              "      <td>1</td>\n",
              "    </tr>\n",
              "    <tr>\n",
              "      <th>3</th>\n",
              "      <td>DropShotSk8r</td>\n",
              "      <td>2014-01-19T04:27:18</td>\n",
              "      <td>Came here to check the views, goodbye.﻿</td>\n",
              "      <td>-1.0</td>\n",
              "      <td>1</td>\n",
              "    </tr>\n",
              "    <tr>\n",
              "      <th>4</th>\n",
              "      <td>css403</td>\n",
              "      <td>2014-11-07T14:25:48</td>\n",
              "      <td>i am 2,126,492,636 viewer :D﻿</td>\n",
              "      <td>-1.0</td>\n",
              "      <td>1</td>\n",
              "    </tr>\n",
              "  </tbody>\n",
              "</table>\n",
              "</div>\n",
              "    <div class=\"colab-df-buttons\">\n",
              "\n",
              "  <div class=\"colab-df-container\">\n",
              "    <button class=\"colab-df-convert\" onclick=\"convertToInteractive('df-39d54793-3d2a-45c3-93f2-e5d7cecaf5ec')\"\n",
              "            title=\"Convert this dataframe to an interactive table.\"\n",
              "            style=\"display:none;\">\n",
              "\n",
              "  <svg xmlns=\"http://www.w3.org/2000/svg\" height=\"24px\" viewBox=\"0 -960 960 960\">\n",
              "    <path d=\"M120-120v-720h720v720H120Zm60-500h600v-160H180v160Zm220 220h160v-160H400v160Zm0 220h160v-160H400v160ZM180-400h160v-160H180v160Zm440 0h160v-160H620v160ZM180-180h160v-160H180v160Zm440 0h160v-160H620v160Z\"/>\n",
              "  </svg>\n",
              "    </button>\n",
              "\n",
              "  <style>\n",
              "    .colab-df-container {\n",
              "      display:flex;\n",
              "      gap: 12px;\n",
              "    }\n",
              "\n",
              "    .colab-df-convert {\n",
              "      background-color: #E8F0FE;\n",
              "      border: none;\n",
              "      border-radius: 50%;\n",
              "      cursor: pointer;\n",
              "      display: none;\n",
              "      fill: #1967D2;\n",
              "      height: 32px;\n",
              "      padding: 0 0 0 0;\n",
              "      width: 32px;\n",
              "    }\n",
              "\n",
              "    .colab-df-convert:hover {\n",
              "      background-color: #E2EBFA;\n",
              "      box-shadow: 0px 1px 2px rgba(60, 64, 67, 0.3), 0px 1px 3px 1px rgba(60, 64, 67, 0.15);\n",
              "      fill: #174EA6;\n",
              "    }\n",
              "\n",
              "    .colab-df-buttons div {\n",
              "      margin-bottom: 4px;\n",
              "    }\n",
              "\n",
              "    [theme=dark] .colab-df-convert {\n",
              "      background-color: #3B4455;\n",
              "      fill: #D2E3FC;\n",
              "    }\n",
              "\n",
              "    [theme=dark] .colab-df-convert:hover {\n",
              "      background-color: #434B5C;\n",
              "      box-shadow: 0px 1px 3px 1px rgba(0, 0, 0, 0.15);\n",
              "      filter: drop-shadow(0px 1px 2px rgba(0, 0, 0, 0.3));\n",
              "      fill: #FFFFFF;\n",
              "    }\n",
              "  </style>\n",
              "\n",
              "    <script>\n",
              "      const buttonEl =\n",
              "        document.querySelector('#df-39d54793-3d2a-45c3-93f2-e5d7cecaf5ec button.colab-df-convert');\n",
              "      buttonEl.style.display =\n",
              "        google.colab.kernel.accessAllowed ? 'block' : 'none';\n",
              "\n",
              "      async function convertToInteractive(key) {\n",
              "        const element = document.querySelector('#df-39d54793-3d2a-45c3-93f2-e5d7cecaf5ec');\n",
              "        const dataTable =\n",
              "          await google.colab.kernel.invokeFunction('convertToInteractive',\n",
              "                                                    [key], {});\n",
              "        if (!dataTable) return;\n",
              "\n",
              "        const docLinkHtml = 'Like what you see? Visit the ' +\n",
              "          '<a target=\"_blank\" href=https://colab.research.google.com/notebooks/data_table.ipynb>data table notebook</a>'\n",
              "          + ' to learn more about interactive tables.';\n",
              "        element.innerHTML = '';\n",
              "        dataTable['output_type'] = 'display_data';\n",
              "        await google.colab.output.renderOutput(dataTable, element);\n",
              "        const docLink = document.createElement('div');\n",
              "        docLink.innerHTML = docLinkHtml;\n",
              "        element.appendChild(docLink);\n",
              "      }\n",
              "    </script>\n",
              "  </div>\n",
              "\n",
              "\n",
              "<div id=\"df-9c8bff4e-409b-4e6a-ba74-17315ef70d33\">\n",
              "  <button class=\"colab-df-quickchart\" onclick=\"quickchart('df-9c8bff4e-409b-4e6a-ba74-17315ef70d33')\"\n",
              "            title=\"Suggest charts.\"\n",
              "            style=\"display:none;\">\n",
              "\n",
              "<svg xmlns=\"http://www.w3.org/2000/svg\" height=\"24px\"viewBox=\"0 0 24 24\"\n",
              "     width=\"24px\">\n",
              "    <g>\n",
              "        <path d=\"M19 3H5c-1.1 0-2 .9-2 2v14c0 1.1.9 2 2 2h14c1.1 0 2-.9 2-2V5c0-1.1-.9-2-2-2zM9 17H7v-7h2v7zm4 0h-2V7h2v10zm4 0h-2v-4h2v4z\"/>\n",
              "    </g>\n",
              "</svg>\n",
              "  </button>\n",
              "\n",
              "<style>\n",
              "  .colab-df-quickchart {\n",
              "      --bg-color: #E8F0FE;\n",
              "      --fill-color: #1967D2;\n",
              "      --hover-bg-color: #E2EBFA;\n",
              "      --hover-fill-color: #174EA6;\n",
              "      --disabled-fill-color: #AAA;\n",
              "      --disabled-bg-color: #DDD;\n",
              "  }\n",
              "\n",
              "  [theme=dark] .colab-df-quickchart {\n",
              "      --bg-color: #3B4455;\n",
              "      --fill-color: #D2E3FC;\n",
              "      --hover-bg-color: #434B5C;\n",
              "      --hover-fill-color: #FFFFFF;\n",
              "      --disabled-bg-color: #3B4455;\n",
              "      --disabled-fill-color: #666;\n",
              "  }\n",
              "\n",
              "  .colab-df-quickchart {\n",
              "    background-color: var(--bg-color);\n",
              "    border: none;\n",
              "    border-radius: 50%;\n",
              "    cursor: pointer;\n",
              "    display: none;\n",
              "    fill: var(--fill-color);\n",
              "    height: 32px;\n",
              "    padding: 0;\n",
              "    width: 32px;\n",
              "  }\n",
              "\n",
              "  .colab-df-quickchart:hover {\n",
              "    background-color: var(--hover-bg-color);\n",
              "    box-shadow: 0 1px 2px rgba(60, 64, 67, 0.3), 0 1px 3px 1px rgba(60, 64, 67, 0.15);\n",
              "    fill: var(--button-hover-fill-color);\n",
              "  }\n",
              "\n",
              "  .colab-df-quickchart-complete:disabled,\n",
              "  .colab-df-quickchart-complete:disabled:hover {\n",
              "    background-color: var(--disabled-bg-color);\n",
              "    fill: var(--disabled-fill-color);\n",
              "    box-shadow: none;\n",
              "  }\n",
              "\n",
              "  .colab-df-spinner {\n",
              "    border: 2px solid var(--fill-color);\n",
              "    border-color: transparent;\n",
              "    border-bottom-color: var(--fill-color);\n",
              "    animation:\n",
              "      spin 1s steps(1) infinite;\n",
              "  }\n",
              "\n",
              "  @keyframes spin {\n",
              "    0% {\n",
              "      border-color: transparent;\n",
              "      border-bottom-color: var(--fill-color);\n",
              "      border-left-color: var(--fill-color);\n",
              "    }\n",
              "    20% {\n",
              "      border-color: transparent;\n",
              "      border-left-color: var(--fill-color);\n",
              "      border-top-color: var(--fill-color);\n",
              "    }\n",
              "    30% {\n",
              "      border-color: transparent;\n",
              "      border-left-color: var(--fill-color);\n",
              "      border-top-color: var(--fill-color);\n",
              "      border-right-color: var(--fill-color);\n",
              "    }\n",
              "    40% {\n",
              "      border-color: transparent;\n",
              "      border-right-color: var(--fill-color);\n",
              "      border-top-color: var(--fill-color);\n",
              "    }\n",
              "    60% {\n",
              "      border-color: transparent;\n",
              "      border-right-color: var(--fill-color);\n",
              "    }\n",
              "    80% {\n",
              "      border-color: transparent;\n",
              "      border-right-color: var(--fill-color);\n",
              "      border-bottom-color: var(--fill-color);\n",
              "    }\n",
              "    90% {\n",
              "      border-color: transparent;\n",
              "      border-bottom-color: var(--fill-color);\n",
              "    }\n",
              "  }\n",
              "</style>\n",
              "\n",
              "  <script>\n",
              "    async function quickchart(key) {\n",
              "      const quickchartButtonEl =\n",
              "        document.querySelector('#' + key + ' button');\n",
              "      quickchartButtonEl.disabled = true;  // To prevent multiple clicks.\n",
              "      quickchartButtonEl.classList.add('colab-df-spinner');\n",
              "      try {\n",
              "        const charts = await google.colab.kernel.invokeFunction(\n",
              "            'suggestCharts', [key], {});\n",
              "      } catch (error) {\n",
              "        console.error('Error during call to suggestCharts:', error);\n",
              "      }\n",
              "      quickchartButtonEl.classList.remove('colab-df-spinner');\n",
              "      quickchartButtonEl.classList.add('colab-df-quickchart-complete');\n",
              "    }\n",
              "    (() => {\n",
              "      let quickchartButtonEl =\n",
              "        document.querySelector('#df-9c8bff4e-409b-4e6a-ba74-17315ef70d33 button');\n",
              "      quickchartButtonEl.style.display =\n",
              "        google.colab.kernel.accessAllowed ? 'block' : 'none';\n",
              "    })();\n",
              "  </script>\n",
              "</div>\n",
              "    </div>\n",
              "  </div>\n"
            ]
          },
          "metadata": {},
          "execution_count": 6
        }
      ]
    },
    {
      "cell_type": "code",
      "source": [
        "df_train['video'].value_counts() # There are 4 videos used to take spam/ham messages."
      ],
      "metadata": {
        "id": "SiwZIwgHyddH",
        "colab": {
          "base_uri": "https://localhost:8080/"
        },
        "outputId": "30f2e1ba-e532-40b5-c781-92aaddaa04c9"
      },
      "execution_count": 10,
      "outputs": [
        {
          "output_type": "execute_result",
          "data": {
            "text/plain": [
              "4    448\n",
              "3    438\n",
              "1    350\n",
              "2    350\n",
              "Name: video, dtype: int64"
            ]
          },
          "metadata": {},
          "execution_count": 10
        }
      ]
    },
    {
      "cell_type": "code",
      "source": [
        "df_test['video'].value_counts() # There is a 5th video, which will be used for testing the classifier."
      ],
      "metadata": {
        "colab": {
          "base_uri": "https://localhost:8080/"
        },
        "id": "3CtiwcdBM2m2",
        "outputId": "7bf79724-8b6b-4ac2-854c-1a7c48ba4b28"
      },
      "execution_count": 11,
      "outputs": [
        {
          "output_type": "execute_result",
          "data": {
            "text/plain": [
              "5    250\n",
              "Name: video, dtype: int64"
            ]
          },
          "metadata": {},
          "execution_count": 11
        }
      ]
    },
    {
      "cell_type": "markdown",
      "source": [
        "**Class labels for spam = 1, ham = 0, abstain = -1**"
      ],
      "metadata": {
        "id": "HqIt9hMTOx_b"
      }
    },
    {
      "cell_type": "code",
      "source": [
        "# From the training dataset, we should remove the label in order to label them automatically.\n",
        "df_train[[\"author\", \"text\", \"video\"]].sample(20, random_state=2)\n",
        "#Based on this, we will define the label functions."
      ],
      "metadata": {
        "colab": {
          "base_uri": "https://localhost:8080/",
          "height": 676
        },
        "id": "WkPf84a-NOhJ",
        "outputId": "f40d136a-d09e-4791-e5d7-6f6d65c8cd3e"
      },
      "execution_count": 12,
      "outputs": [
        {
          "output_type": "execute_result",
          "data": {
            "text/plain": [
              "                      author  \\\n",
              "4           ambareesh nimkar   \n",
              "87              pratik patel   \n",
              "14                RaMpAgE420   \n",
              "80              Jason Haddad   \n",
              "104             austin green   \n",
              "305                    M.E.S   \n",
              "22              John Monster   \n",
              "338          Alanoud Alsaleh   \n",
              "336        Leonardo Baptista   \n",
              "143          UKz DoleSnacher   \n",
              "163            Monica Parker   \n",
              "129           b0b1t.48058475   \n",
              "277  MeSoHornyMeLuvULongTime   \n",
              "265          HarveyIsTheBoss   \n",
              "214              janez novak   \n",
              "76              Bizzle Sperq   \n",
              "123     Gaming and Stuff PRO   \n",
              "268           Young IncoVEVO   \n",
              "433              Chris Edgar   \n",
              "40              rap classics   \n",
              "\n",
              "                                                  text  video  \n",
              "4    \"eye of the tiger\" \"i am the champion\" seems l...      2  \n",
              "87                mindblowing dance.,.,.superbbb song﻿      3  \n",
              "14          Check out Berzerk video on my channel ! :D      4  \n",
              "80   Hey, check out my new website!! This site is a...      1  \n",
              "104                   Eminem is my insperasen and fav﻿      4  \n",
              "305  hey guys look im aware im spamming and it piss...      4  \n",
              "22   Οh my god ... Roar is the most liked video at ...      2  \n",
              "338  I started hating Katy Perry after finding out ...      2  \n",
              "336  http://www.avaaz.org/po/petition/Youtube_Corpo...      1  \n",
              "143                        Remove This video its wank﻿      1  \n",
              "163                  Check out this video on YouTube:﻿      3  \n",
              "129  i rekt ur mum last nite. cuz da haterz were 2 ...      2  \n",
              "277  This video is so racist!!! There are only anim...      2  \n",
              "265  You gotta say its funny. well not 2 billion wo...      1  \n",
              "214  share and like this page to win a hand signed ...      4  \n",
              "76   https://www.facebook.com/nicushorbboy add mee ...      1  \n",
              "123  Hello! Do you like gaming, art videos, scienti...      1  \n",
              "268  Check out my Music Videos! and PLEASE SUBSCRIB...      1  \n",
              "433                 Love the way you lie - Driveshaft﻿      4  \n",
              "40      check out my channel for rap and hip hop music      4  "
            ],
            "text/html": [
              "\n",
              "  <div id=\"df-3f7c204f-dacc-4e19-bd70-4c00013e9493\" class=\"colab-df-container\">\n",
              "    <div>\n",
              "<style scoped>\n",
              "    .dataframe tbody tr th:only-of-type {\n",
              "        vertical-align: middle;\n",
              "    }\n",
              "\n",
              "    .dataframe tbody tr th {\n",
              "        vertical-align: top;\n",
              "    }\n",
              "\n",
              "    .dataframe thead th {\n",
              "        text-align: right;\n",
              "    }\n",
              "</style>\n",
              "<table border=\"1\" class=\"dataframe\">\n",
              "  <thead>\n",
              "    <tr style=\"text-align: right;\">\n",
              "      <th></th>\n",
              "      <th>author</th>\n",
              "      <th>text</th>\n",
              "      <th>video</th>\n",
              "    </tr>\n",
              "  </thead>\n",
              "  <tbody>\n",
              "    <tr>\n",
              "      <th>4</th>\n",
              "      <td>ambareesh nimkar</td>\n",
              "      <td>\"eye of the tiger\" \"i am the champion\" seems l...</td>\n",
              "      <td>2</td>\n",
              "    </tr>\n",
              "    <tr>\n",
              "      <th>87</th>\n",
              "      <td>pratik patel</td>\n",
              "      <td>mindblowing dance.,.,.superbbb song﻿</td>\n",
              "      <td>3</td>\n",
              "    </tr>\n",
              "    <tr>\n",
              "      <th>14</th>\n",
              "      <td>RaMpAgE420</td>\n",
              "      <td>Check out Berzerk video on my channel ! :D</td>\n",
              "      <td>4</td>\n",
              "    </tr>\n",
              "    <tr>\n",
              "      <th>80</th>\n",
              "      <td>Jason Haddad</td>\n",
              "      <td>Hey, check out my new website!! This site is a...</td>\n",
              "      <td>1</td>\n",
              "    </tr>\n",
              "    <tr>\n",
              "      <th>104</th>\n",
              "      <td>austin green</td>\n",
              "      <td>Eminem is my insperasen and fav﻿</td>\n",
              "      <td>4</td>\n",
              "    </tr>\n",
              "    <tr>\n",
              "      <th>305</th>\n",
              "      <td>M.E.S</td>\n",
              "      <td>hey guys look im aware im spamming and it piss...</td>\n",
              "      <td>4</td>\n",
              "    </tr>\n",
              "    <tr>\n",
              "      <th>22</th>\n",
              "      <td>John Monster</td>\n",
              "      <td>Οh my god ... Roar is the most liked video at ...</td>\n",
              "      <td>2</td>\n",
              "    </tr>\n",
              "    <tr>\n",
              "      <th>338</th>\n",
              "      <td>Alanoud Alsaleh</td>\n",
              "      <td>I started hating Katy Perry after finding out ...</td>\n",
              "      <td>2</td>\n",
              "    </tr>\n",
              "    <tr>\n",
              "      <th>336</th>\n",
              "      <td>Leonardo Baptista</td>\n",
              "      <td>http://www.avaaz.org/po/petition/Youtube_Corpo...</td>\n",
              "      <td>1</td>\n",
              "    </tr>\n",
              "    <tr>\n",
              "      <th>143</th>\n",
              "      <td>UKz DoleSnacher</td>\n",
              "      <td>Remove This video its wank﻿</td>\n",
              "      <td>1</td>\n",
              "    </tr>\n",
              "    <tr>\n",
              "      <th>163</th>\n",
              "      <td>Monica Parker</td>\n",
              "      <td>Check out this video on YouTube:﻿</td>\n",
              "      <td>3</td>\n",
              "    </tr>\n",
              "    <tr>\n",
              "      <th>129</th>\n",
              "      <td>b0b1t.48058475</td>\n",
              "      <td>i rekt ur mum last nite. cuz da haterz were 2 ...</td>\n",
              "      <td>2</td>\n",
              "    </tr>\n",
              "    <tr>\n",
              "      <th>277</th>\n",
              "      <td>MeSoHornyMeLuvULongTime</td>\n",
              "      <td>This video is so racist!!! There are only anim...</td>\n",
              "      <td>2</td>\n",
              "    </tr>\n",
              "    <tr>\n",
              "      <th>265</th>\n",
              "      <td>HarveyIsTheBoss</td>\n",
              "      <td>You gotta say its funny. well not 2 billion wo...</td>\n",
              "      <td>1</td>\n",
              "    </tr>\n",
              "    <tr>\n",
              "      <th>214</th>\n",
              "      <td>janez novak</td>\n",
              "      <td>share and like this page to win a hand signed ...</td>\n",
              "      <td>4</td>\n",
              "    </tr>\n",
              "    <tr>\n",
              "      <th>76</th>\n",
              "      <td>Bizzle Sperq</td>\n",
              "      <td>https://www.facebook.com/nicushorbboy add mee ...</td>\n",
              "      <td>1</td>\n",
              "    </tr>\n",
              "    <tr>\n",
              "      <th>123</th>\n",
              "      <td>Gaming and Stuff PRO</td>\n",
              "      <td>Hello! Do you like gaming, art videos, scienti...</td>\n",
              "      <td>1</td>\n",
              "    </tr>\n",
              "    <tr>\n",
              "      <th>268</th>\n",
              "      <td>Young IncoVEVO</td>\n",
              "      <td>Check out my Music Videos! and PLEASE SUBSCRIB...</td>\n",
              "      <td>1</td>\n",
              "    </tr>\n",
              "    <tr>\n",
              "      <th>433</th>\n",
              "      <td>Chris Edgar</td>\n",
              "      <td>Love the way you lie - Driveshaft﻿</td>\n",
              "      <td>4</td>\n",
              "    </tr>\n",
              "    <tr>\n",
              "      <th>40</th>\n",
              "      <td>rap classics</td>\n",
              "      <td>check out my channel for rap and hip hop music</td>\n",
              "      <td>4</td>\n",
              "    </tr>\n",
              "  </tbody>\n",
              "</table>\n",
              "</div>\n",
              "    <div class=\"colab-df-buttons\">\n",
              "\n",
              "  <div class=\"colab-df-container\">\n",
              "    <button class=\"colab-df-convert\" onclick=\"convertToInteractive('df-3f7c204f-dacc-4e19-bd70-4c00013e9493')\"\n",
              "            title=\"Convert this dataframe to an interactive table.\"\n",
              "            style=\"display:none;\">\n",
              "\n",
              "  <svg xmlns=\"http://www.w3.org/2000/svg\" height=\"24px\" viewBox=\"0 -960 960 960\">\n",
              "    <path d=\"M120-120v-720h720v720H120Zm60-500h600v-160H180v160Zm220 220h160v-160H400v160Zm0 220h160v-160H400v160ZM180-400h160v-160H180v160Zm440 0h160v-160H620v160ZM180-180h160v-160H180v160Zm440 0h160v-160H620v160Z\"/>\n",
              "  </svg>\n",
              "    </button>\n",
              "\n",
              "  <style>\n",
              "    .colab-df-container {\n",
              "      display:flex;\n",
              "      gap: 12px;\n",
              "    }\n",
              "\n",
              "    .colab-df-convert {\n",
              "      background-color: #E8F0FE;\n",
              "      border: none;\n",
              "      border-radius: 50%;\n",
              "      cursor: pointer;\n",
              "      display: none;\n",
              "      fill: #1967D2;\n",
              "      height: 32px;\n",
              "      padding: 0 0 0 0;\n",
              "      width: 32px;\n",
              "    }\n",
              "\n",
              "    .colab-df-convert:hover {\n",
              "      background-color: #E2EBFA;\n",
              "      box-shadow: 0px 1px 2px rgba(60, 64, 67, 0.3), 0px 1px 3px 1px rgba(60, 64, 67, 0.15);\n",
              "      fill: #174EA6;\n",
              "    }\n",
              "\n",
              "    .colab-df-buttons div {\n",
              "      margin-bottom: 4px;\n",
              "    }\n",
              "\n",
              "    [theme=dark] .colab-df-convert {\n",
              "      background-color: #3B4455;\n",
              "      fill: #D2E3FC;\n",
              "    }\n",
              "\n",
              "    [theme=dark] .colab-df-convert:hover {\n",
              "      background-color: #434B5C;\n",
              "      box-shadow: 0px 1px 3px 1px rgba(0, 0, 0, 0.15);\n",
              "      filter: drop-shadow(0px 1px 2px rgba(0, 0, 0, 0.3));\n",
              "      fill: #FFFFFF;\n",
              "    }\n",
              "  </style>\n",
              "\n",
              "    <script>\n",
              "      const buttonEl =\n",
              "        document.querySelector('#df-3f7c204f-dacc-4e19-bd70-4c00013e9493 button.colab-df-convert');\n",
              "      buttonEl.style.display =\n",
              "        google.colab.kernel.accessAllowed ? 'block' : 'none';\n",
              "\n",
              "      async function convertToInteractive(key) {\n",
              "        const element = document.querySelector('#df-3f7c204f-dacc-4e19-bd70-4c00013e9493');\n",
              "        const dataTable =\n",
              "          await google.colab.kernel.invokeFunction('convertToInteractive',\n",
              "                                                    [key], {});\n",
              "        if (!dataTable) return;\n",
              "\n",
              "        const docLinkHtml = 'Like what you see? Visit the ' +\n",
              "          '<a target=\"_blank\" href=https://colab.research.google.com/notebooks/data_table.ipynb>data table notebook</a>'\n",
              "          + ' to learn more about interactive tables.';\n",
              "        element.innerHTML = '';\n",
              "        dataTable['output_type'] = 'display_data';\n",
              "        await google.colab.output.renderOutput(dataTable, element);\n",
              "        const docLink = document.createElement('div');\n",
              "        docLink.innerHTML = docLinkHtml;\n",
              "        element.appendChild(docLink);\n",
              "      }\n",
              "    </script>\n",
              "  </div>\n",
              "\n",
              "\n",
              "<div id=\"df-d86e4fa8-0e3b-4eee-972e-cc97493b86a7\">\n",
              "  <button class=\"colab-df-quickchart\" onclick=\"quickchart('df-d86e4fa8-0e3b-4eee-972e-cc97493b86a7')\"\n",
              "            title=\"Suggest charts.\"\n",
              "            style=\"display:none;\">\n",
              "\n",
              "<svg xmlns=\"http://www.w3.org/2000/svg\" height=\"24px\"viewBox=\"0 0 24 24\"\n",
              "     width=\"24px\">\n",
              "    <g>\n",
              "        <path d=\"M19 3H5c-1.1 0-2 .9-2 2v14c0 1.1.9 2 2 2h14c1.1 0 2-.9 2-2V5c0-1.1-.9-2-2-2zM9 17H7v-7h2v7zm4 0h-2V7h2v10zm4 0h-2v-4h2v4z\"/>\n",
              "    </g>\n",
              "</svg>\n",
              "  </button>\n",
              "\n",
              "<style>\n",
              "  .colab-df-quickchart {\n",
              "      --bg-color: #E8F0FE;\n",
              "      --fill-color: #1967D2;\n",
              "      --hover-bg-color: #E2EBFA;\n",
              "      --hover-fill-color: #174EA6;\n",
              "      --disabled-fill-color: #AAA;\n",
              "      --disabled-bg-color: #DDD;\n",
              "  }\n",
              "\n",
              "  [theme=dark] .colab-df-quickchart {\n",
              "      --bg-color: #3B4455;\n",
              "      --fill-color: #D2E3FC;\n",
              "      --hover-bg-color: #434B5C;\n",
              "      --hover-fill-color: #FFFFFF;\n",
              "      --disabled-bg-color: #3B4455;\n",
              "      --disabled-fill-color: #666;\n",
              "  }\n",
              "\n",
              "  .colab-df-quickchart {\n",
              "    background-color: var(--bg-color);\n",
              "    border: none;\n",
              "    border-radius: 50%;\n",
              "    cursor: pointer;\n",
              "    display: none;\n",
              "    fill: var(--fill-color);\n",
              "    height: 32px;\n",
              "    padding: 0;\n",
              "    width: 32px;\n",
              "  }\n",
              "\n",
              "  .colab-df-quickchart:hover {\n",
              "    background-color: var(--hover-bg-color);\n",
              "    box-shadow: 0 1px 2px rgba(60, 64, 67, 0.3), 0 1px 3px 1px rgba(60, 64, 67, 0.15);\n",
              "    fill: var(--button-hover-fill-color);\n",
              "  }\n",
              "\n",
              "  .colab-df-quickchart-complete:disabled,\n",
              "  .colab-df-quickchart-complete:disabled:hover {\n",
              "    background-color: var(--disabled-bg-color);\n",
              "    fill: var(--disabled-fill-color);\n",
              "    box-shadow: none;\n",
              "  }\n",
              "\n",
              "  .colab-df-spinner {\n",
              "    border: 2px solid var(--fill-color);\n",
              "    border-color: transparent;\n",
              "    border-bottom-color: var(--fill-color);\n",
              "    animation:\n",
              "      spin 1s steps(1) infinite;\n",
              "  }\n",
              "\n",
              "  @keyframes spin {\n",
              "    0% {\n",
              "      border-color: transparent;\n",
              "      border-bottom-color: var(--fill-color);\n",
              "      border-left-color: var(--fill-color);\n",
              "    }\n",
              "    20% {\n",
              "      border-color: transparent;\n",
              "      border-left-color: var(--fill-color);\n",
              "      border-top-color: var(--fill-color);\n",
              "    }\n",
              "    30% {\n",
              "      border-color: transparent;\n",
              "      border-left-color: var(--fill-color);\n",
              "      border-top-color: var(--fill-color);\n",
              "      border-right-color: var(--fill-color);\n",
              "    }\n",
              "    40% {\n",
              "      border-color: transparent;\n",
              "      border-right-color: var(--fill-color);\n",
              "      border-top-color: var(--fill-color);\n",
              "    }\n",
              "    60% {\n",
              "      border-color: transparent;\n",
              "      border-right-color: var(--fill-color);\n",
              "    }\n",
              "    80% {\n",
              "      border-color: transparent;\n",
              "      border-right-color: var(--fill-color);\n",
              "      border-bottom-color: var(--fill-color);\n",
              "    }\n",
              "    90% {\n",
              "      border-color: transparent;\n",
              "      border-bottom-color: var(--fill-color);\n",
              "    }\n",
              "  }\n",
              "</style>\n",
              "\n",
              "  <script>\n",
              "    async function quickchart(key) {\n",
              "      const quickchartButtonEl =\n",
              "        document.querySelector('#' + key + ' button');\n",
              "      quickchartButtonEl.disabled = true;  // To prevent multiple clicks.\n",
              "      quickchartButtonEl.classList.add('colab-df-spinner');\n",
              "      try {\n",
              "        const charts = await google.colab.kernel.invokeFunction(\n",
              "            'suggestCharts', [key], {});\n",
              "      } catch (error) {\n",
              "        console.error('Error during call to suggestCharts:', error);\n",
              "      }\n",
              "      quickchartButtonEl.classList.remove('colab-df-spinner');\n",
              "      quickchartButtonEl.classList.add('colab-df-quickchart-complete');\n",
              "    }\n",
              "    (() => {\n",
              "      let quickchartButtonEl =\n",
              "        document.querySelector('#df-d86e4fa8-0e3b-4eee-972e-cc97493b86a7 button');\n",
              "      quickchartButtonEl.style.display =\n",
              "        google.colab.kernel.accessAllowed ? 'block' : 'none';\n",
              "    })();\n",
              "  </script>\n",
              "</div>\n",
              "    </div>\n",
              "  </div>\n"
            ]
          },
          "metadata": {},
          "execution_count": 12
        }
      ]
    },
    {
      "cell_type": "code",
      "source": [
        "#Let's generate Weak Labels with the help of Labelling Functions"
      ],
      "metadata": {
        "id": "Nyrgu4e8P9pM"
      },
      "execution_count": 16,
      "outputs": []
    },
    {
      "cell_type": "code",
      "source": [
        "from snorkel.labeling import labeling_function\n",
        "from snorkel.labeling import PandasLFApplier\n",
        "from snorkel.labeling import LFAnalysis\n",
        "from snorkel.analysis import get_label_buckets"
      ],
      "metadata": {
        "id": "Nha3BcYYPAxW"
      },
      "execution_count": 13,
      "outputs": []
    },
    {
      "cell_type": "code",
      "source": [
        "SPAM = 1\n",
        "HAM = 0\n",
        "ABSTAIN = -1"
      ],
      "metadata": {
        "id": "GSW6LTBXPfEI"
      },
      "execution_count": 14,
      "outputs": []
    },
    {
      "cell_type": "code",
      "source": [
        "#Spam comments have the phrase \"check out\", so lets make a function for that\n",
        "\n",
        "import re\n",
        "@labeling_function()\n",
        "def regex_check_out(x): #1st LF - check for phrase \"check out\"\n",
        "    return SPAM if re.search(r\"check.*out\", x.text, flags=re.I) else ABSTAIN"
      ],
      "metadata": {
        "id": "lLl7gJz-PKOn"
      },
      "execution_count": 15,
      "outputs": []
    },
    {
      "cell_type": "code",
      "source": [
        "# Writing an LF to gauge sentiment using TextBlob (we can use other packages with snorkel)\n",
        "\n",
        "from snorkel.preprocess import preprocessor\n",
        "from textblob import TextBlob\n",
        "@preprocessor(memoize=True)\n",
        "def textblob_sentiment(x):\n",
        "    scores = TextBlob(x.text)\n",
        "    x.polarity = scores.sentiment.polarity #Polarity == sentiment, +1 is positive, -1 is negative, 0 is a neutral sentiment.\n",
        "    x.subjectivity = scores.sentiment.subjectivity\n",
        "    return x\n",
        "\n",
        "@labeling_function(pre=[textblob_sentiment]) #If comment is positive (>0.9), then its  HAM\n",
        "def textblob_polarity(x):\n",
        "    return HAM if x.polarity > 0.9 else ABSTAIN\n",
        "\n",
        "@labeling_function(pre=[textblob_sentiment]) #If commentis subjective (>0.5), then its HAM, else ABSTAIN\n",
        "def textblob_subjectivity(x):\n",
        "    return HAM if x.subjectivity >= 0.5 else ABSTAIN"
      ],
      "metadata": {
        "id": "XvLVmmsjPv-J"
      },
      "execution_count": 17,
      "outputs": []
    },
    {
      "cell_type": "code",
      "source": [
        "# Writing some LFs for SPAM\n",
        "from snorkel.labeling import LabelingFunction\n",
        "\n",
        "def keyword_lookup(x, keywords, label):\n",
        "    if any(word in x.text.lower() for word in keywords):\n",
        "        return label\n",
        "    return ABSTAIN\n",
        "\n",
        "\n",
        "def make_keyword_lf(keywords, label=SPAM):\n",
        "    return LabelingFunction(\n",
        "        name=f\"keyword_{keywords[0]}\",\n",
        "        f=keyword_lookup,\n",
        "        resources=dict(keywords=keywords, label=label),\n",
        "    )\n",
        "\n",
        "\n",
        "#Spam comments talk about 'my channel', 'my video', etc\n",
        "keyword_my = make_keyword_lf(keywords=[\"my\"])\n",
        "\n",
        "#Spam comments ask users to subscribe to their channels.\n",
        "keyword_subscribe = make_keyword_lf(keywords=[\"subscribe\"])\n",
        "\n",
        "#Spam comments post links to other channels\n",
        "keyword_link = make_keyword_lf(keywords=[\"http\"])\n",
        "\n",
        "#Spam comments make requests rather than commenting.\n",
        "keyword_please = make_keyword_lf(keywords=[\"please\", \"plz\"])\n",
        "\n",
        "#Ham comments actually talk about the video's content.\n",
        "keyword_song = make_keyword_lf(keywords=[\"song\"], label=HAM)\n"
      ],
      "metadata": {
        "id": "c00Gk5KJQ_Fd"
      },
      "execution_count": 20,
      "outputs": []
    },
    {
      "cell_type": "code",
      "source": [
        "#Ham comments are often short, such as 'cool video!'\n",
        "\n",
        "@labeling_function()\n",
        "def short_comment(x):\n",
        "    return HAM if len(x.text.split()) < 5 else ABSTAIN"
      ],
      "metadata": {
        "id": "tXdsHbjPSh5j"
      },
      "execution_count": 21,
      "outputs": []
    },
    {
      "cell_type": "code",
      "source": [
        "from snorkel.labeling.lf.nlp import nlp_labeling_function\n",
        "#Using NLP labelling, if the comment talks about a person and its short, then HAM, else ABSTAIN\n",
        "\n",
        "@nlp_labeling_function()\n",
        "def has_person_nlp(x):\n",
        "    if len(x.doc) < 20 and any([ent.label_ == \"PERSON\" for ent in x.doc.ents]):\n",
        "        return HAM\n",
        "    else:\n",
        "        return ABSTAIN"
      ],
      "metadata": {
        "id": "o7Z4jpQsSxw1"
      },
      "execution_count": 22,
      "outputs": []
    },
    {
      "cell_type": "code",
      "source": [
        "# Put all the Labelling functions into a list.\n",
        "lfs = [\n",
        "    keyword_my,\n",
        "    keyword_subscribe,\n",
        "    keyword_link,\n",
        "    keyword_please,\n",
        "    keyword_song,\n",
        "    regex_check_out,\n",
        "    short_comment,\n",
        "    has_person_nlp,\n",
        "    textblob_polarity,\n",
        "    textblob_subjectivity\n",
        "]"
      ],
      "metadata": {
        "id": "4QK9emHES91b"
      },
      "execution_count": 24,
      "outputs": []
    },
    {
      "cell_type": "code",
      "source": [
        "# Apply the LFS in the dataframe\n",
        "applier = PandasLFApplier(lfs=lfs)\n",
        "L_train = applier.apply(df=df_train)\n",
        "L_test = applier.apply(df=df_test)"
      ],
      "metadata": {
        "colab": {
          "base_uri": "https://localhost:8080/"
        },
        "id": "WcIMGtK2TkJC",
        "outputId": "dfba176c-a4cf-4a20-a718-28d17b019e07"
      },
      "execution_count": 25,
      "outputs": [
        {
          "output_type": "stream",
          "name": "stderr",
          "text": [
            "100%|██████████| 1586/1586 [00:16<00:00, 97.95it/s] \n",
            "100%|██████████| 250/250 [00:02<00:00, 107.43it/s]\n"
          ]
        }
      ]
    },
    {
      "cell_type": "code",
      "source": [
        "LFAnalysis(L=L_train, lfs=lfs).lf_summary()\n",
        "#Coverage - The fraction of the dataset the LF labels\n",
        "#Overlap - The fraction of the dataset where this LF and at least one other LF label\n",
        "#Conflict - The fraction of the dataset where this LF and at least one other LF label and disagree"
      ],
      "metadata": {
        "colab": {
          "base_uri": "https://localhost:8080/",
          "height": 363
        },
        "id": "D09_fGrgToZB",
        "outputId": "338b00eb-baaa-40c9-ee7e-95d5aa90dd41"
      },
      "execution_count": 26,
      "outputs": [
        {
          "output_type": "execute_result",
          "data": {
            "text/plain": [
              "                       j Polarity  Coverage  Overlaps  Conflicts\n",
              "keyword_my             0      [1]  0.198613  0.186003   0.110971\n",
              "keyword_subscribe      1      [1]  0.127364  0.107188   0.067465\n",
              "keyword_http           2      [1]  0.119168  0.101513   0.082598\n",
              "keyword_please         3      [1]  0.112232  0.109710   0.057377\n",
              "keyword_song           4      [0]  0.141866  0.111602   0.043506\n",
              "regex_check_out        5      [1]  0.233922  0.129256   0.083859\n",
              "short_comment          6      [0]  0.225725  0.144388   0.074401\n",
              "has_person_nlp         7      [0]  0.083859  0.062421   0.027743\n",
              "textblob_polarity      8      [0]  0.035309  0.030895   0.005044\n",
              "textblob_subjectivity  9      [0]  0.357503  0.261665   0.160151"
            ],
            "text/html": [
              "\n",
              "  <div id=\"df-eb3d5401-74de-49aa-a5df-5c2c331f383d\" class=\"colab-df-container\">\n",
              "    <div>\n",
              "<style scoped>\n",
              "    .dataframe tbody tr th:only-of-type {\n",
              "        vertical-align: middle;\n",
              "    }\n",
              "\n",
              "    .dataframe tbody tr th {\n",
              "        vertical-align: top;\n",
              "    }\n",
              "\n",
              "    .dataframe thead th {\n",
              "        text-align: right;\n",
              "    }\n",
              "</style>\n",
              "<table border=\"1\" class=\"dataframe\">\n",
              "  <thead>\n",
              "    <tr style=\"text-align: right;\">\n",
              "      <th></th>\n",
              "      <th>j</th>\n",
              "      <th>Polarity</th>\n",
              "      <th>Coverage</th>\n",
              "      <th>Overlaps</th>\n",
              "      <th>Conflicts</th>\n",
              "    </tr>\n",
              "  </thead>\n",
              "  <tbody>\n",
              "    <tr>\n",
              "      <th>keyword_my</th>\n",
              "      <td>0</td>\n",
              "      <td>[1]</td>\n",
              "      <td>0.198613</td>\n",
              "      <td>0.186003</td>\n",
              "      <td>0.110971</td>\n",
              "    </tr>\n",
              "    <tr>\n",
              "      <th>keyword_subscribe</th>\n",
              "      <td>1</td>\n",
              "      <td>[1]</td>\n",
              "      <td>0.127364</td>\n",
              "      <td>0.107188</td>\n",
              "      <td>0.067465</td>\n",
              "    </tr>\n",
              "    <tr>\n",
              "      <th>keyword_http</th>\n",
              "      <td>2</td>\n",
              "      <td>[1]</td>\n",
              "      <td>0.119168</td>\n",
              "      <td>0.101513</td>\n",
              "      <td>0.082598</td>\n",
              "    </tr>\n",
              "    <tr>\n",
              "      <th>keyword_please</th>\n",
              "      <td>3</td>\n",
              "      <td>[1]</td>\n",
              "      <td>0.112232</td>\n",
              "      <td>0.109710</td>\n",
              "      <td>0.057377</td>\n",
              "    </tr>\n",
              "    <tr>\n",
              "      <th>keyword_song</th>\n",
              "      <td>4</td>\n",
              "      <td>[0]</td>\n",
              "      <td>0.141866</td>\n",
              "      <td>0.111602</td>\n",
              "      <td>0.043506</td>\n",
              "    </tr>\n",
              "    <tr>\n",
              "      <th>regex_check_out</th>\n",
              "      <td>5</td>\n",
              "      <td>[1]</td>\n",
              "      <td>0.233922</td>\n",
              "      <td>0.129256</td>\n",
              "      <td>0.083859</td>\n",
              "    </tr>\n",
              "    <tr>\n",
              "      <th>short_comment</th>\n",
              "      <td>6</td>\n",
              "      <td>[0]</td>\n",
              "      <td>0.225725</td>\n",
              "      <td>0.144388</td>\n",
              "      <td>0.074401</td>\n",
              "    </tr>\n",
              "    <tr>\n",
              "      <th>has_person_nlp</th>\n",
              "      <td>7</td>\n",
              "      <td>[0]</td>\n",
              "      <td>0.083859</td>\n",
              "      <td>0.062421</td>\n",
              "      <td>0.027743</td>\n",
              "    </tr>\n",
              "    <tr>\n",
              "      <th>textblob_polarity</th>\n",
              "      <td>8</td>\n",
              "      <td>[0]</td>\n",
              "      <td>0.035309</td>\n",
              "      <td>0.030895</td>\n",
              "      <td>0.005044</td>\n",
              "    </tr>\n",
              "    <tr>\n",
              "      <th>textblob_subjectivity</th>\n",
              "      <td>9</td>\n",
              "      <td>[0]</td>\n",
              "      <td>0.357503</td>\n",
              "      <td>0.261665</td>\n",
              "      <td>0.160151</td>\n",
              "    </tr>\n",
              "  </tbody>\n",
              "</table>\n",
              "</div>\n",
              "    <div class=\"colab-df-buttons\">\n",
              "\n",
              "  <div class=\"colab-df-container\">\n",
              "    <button class=\"colab-df-convert\" onclick=\"convertToInteractive('df-eb3d5401-74de-49aa-a5df-5c2c331f383d')\"\n",
              "            title=\"Convert this dataframe to an interactive table.\"\n",
              "            style=\"display:none;\">\n",
              "\n",
              "  <svg xmlns=\"http://www.w3.org/2000/svg\" height=\"24px\" viewBox=\"0 -960 960 960\">\n",
              "    <path d=\"M120-120v-720h720v720H120Zm60-500h600v-160H180v160Zm220 220h160v-160H400v160Zm0 220h160v-160H400v160ZM180-400h160v-160H180v160Zm440 0h160v-160H620v160ZM180-180h160v-160H180v160Zm440 0h160v-160H620v160Z\"/>\n",
              "  </svg>\n",
              "    </button>\n",
              "\n",
              "  <style>\n",
              "    .colab-df-container {\n",
              "      display:flex;\n",
              "      gap: 12px;\n",
              "    }\n",
              "\n",
              "    .colab-df-convert {\n",
              "      background-color: #E8F0FE;\n",
              "      border: none;\n",
              "      border-radius: 50%;\n",
              "      cursor: pointer;\n",
              "      display: none;\n",
              "      fill: #1967D2;\n",
              "      height: 32px;\n",
              "      padding: 0 0 0 0;\n",
              "      width: 32px;\n",
              "    }\n",
              "\n",
              "    .colab-df-convert:hover {\n",
              "      background-color: #E2EBFA;\n",
              "      box-shadow: 0px 1px 2px rgba(60, 64, 67, 0.3), 0px 1px 3px 1px rgba(60, 64, 67, 0.15);\n",
              "      fill: #174EA6;\n",
              "    }\n",
              "\n",
              "    .colab-df-buttons div {\n",
              "      margin-bottom: 4px;\n",
              "    }\n",
              "\n",
              "    [theme=dark] .colab-df-convert {\n",
              "      background-color: #3B4455;\n",
              "      fill: #D2E3FC;\n",
              "    }\n",
              "\n",
              "    [theme=dark] .colab-df-convert:hover {\n",
              "      background-color: #434B5C;\n",
              "      box-shadow: 0px 1px 3px 1px rgba(0, 0, 0, 0.15);\n",
              "      filter: drop-shadow(0px 1px 2px rgba(0, 0, 0, 0.3));\n",
              "      fill: #FFFFFF;\n",
              "    }\n",
              "  </style>\n",
              "\n",
              "    <script>\n",
              "      const buttonEl =\n",
              "        document.querySelector('#df-eb3d5401-74de-49aa-a5df-5c2c331f383d button.colab-df-convert');\n",
              "      buttonEl.style.display =\n",
              "        google.colab.kernel.accessAllowed ? 'block' : 'none';\n",
              "\n",
              "      async function convertToInteractive(key) {\n",
              "        const element = document.querySelector('#df-eb3d5401-74de-49aa-a5df-5c2c331f383d');\n",
              "        const dataTable =\n",
              "          await google.colab.kernel.invokeFunction('convertToInteractive',\n",
              "                                                    [key], {});\n",
              "        if (!dataTable) return;\n",
              "\n",
              "        const docLinkHtml = 'Like what you see? Visit the ' +\n",
              "          '<a target=\"_blank\" href=https://colab.research.google.com/notebooks/data_table.ipynb>data table notebook</a>'\n",
              "          + ' to learn more about interactive tables.';\n",
              "        element.innerHTML = '';\n",
              "        dataTable['output_type'] = 'display_data';\n",
              "        await google.colab.output.renderOutput(dataTable, element);\n",
              "        const docLink = document.createElement('div');\n",
              "        docLink.innerHTML = docLinkHtml;\n",
              "        element.appendChild(docLink);\n",
              "      }\n",
              "    </script>\n",
              "  </div>\n",
              "\n",
              "\n",
              "<div id=\"df-8913b6eb-7172-4f4f-a982-e60f107a8af4\">\n",
              "  <button class=\"colab-df-quickchart\" onclick=\"quickchart('df-8913b6eb-7172-4f4f-a982-e60f107a8af4')\"\n",
              "            title=\"Suggest charts.\"\n",
              "            style=\"display:none;\">\n",
              "\n",
              "<svg xmlns=\"http://www.w3.org/2000/svg\" height=\"24px\"viewBox=\"0 0 24 24\"\n",
              "     width=\"24px\">\n",
              "    <g>\n",
              "        <path d=\"M19 3H5c-1.1 0-2 .9-2 2v14c0 1.1.9 2 2 2h14c1.1 0 2-.9 2-2V5c0-1.1-.9-2-2-2zM9 17H7v-7h2v7zm4 0h-2V7h2v10zm4 0h-2v-4h2v4z\"/>\n",
              "    </g>\n",
              "</svg>\n",
              "  </button>\n",
              "\n",
              "<style>\n",
              "  .colab-df-quickchart {\n",
              "      --bg-color: #E8F0FE;\n",
              "      --fill-color: #1967D2;\n",
              "      --hover-bg-color: #E2EBFA;\n",
              "      --hover-fill-color: #174EA6;\n",
              "      --disabled-fill-color: #AAA;\n",
              "      --disabled-bg-color: #DDD;\n",
              "  }\n",
              "\n",
              "  [theme=dark] .colab-df-quickchart {\n",
              "      --bg-color: #3B4455;\n",
              "      --fill-color: #D2E3FC;\n",
              "      --hover-bg-color: #434B5C;\n",
              "      --hover-fill-color: #FFFFFF;\n",
              "      --disabled-bg-color: #3B4455;\n",
              "      --disabled-fill-color: #666;\n",
              "  }\n",
              "\n",
              "  .colab-df-quickchart {\n",
              "    background-color: var(--bg-color);\n",
              "    border: none;\n",
              "    border-radius: 50%;\n",
              "    cursor: pointer;\n",
              "    display: none;\n",
              "    fill: var(--fill-color);\n",
              "    height: 32px;\n",
              "    padding: 0;\n",
              "    width: 32px;\n",
              "  }\n",
              "\n",
              "  .colab-df-quickchart:hover {\n",
              "    background-color: var(--hover-bg-color);\n",
              "    box-shadow: 0 1px 2px rgba(60, 64, 67, 0.3), 0 1px 3px 1px rgba(60, 64, 67, 0.15);\n",
              "    fill: var(--button-hover-fill-color);\n",
              "  }\n",
              "\n",
              "  .colab-df-quickchart-complete:disabled,\n",
              "  .colab-df-quickchart-complete:disabled:hover {\n",
              "    background-color: var(--disabled-bg-color);\n",
              "    fill: var(--disabled-fill-color);\n",
              "    box-shadow: none;\n",
              "  }\n",
              "\n",
              "  .colab-df-spinner {\n",
              "    border: 2px solid var(--fill-color);\n",
              "    border-color: transparent;\n",
              "    border-bottom-color: var(--fill-color);\n",
              "    animation:\n",
              "      spin 1s steps(1) infinite;\n",
              "  }\n",
              "\n",
              "  @keyframes spin {\n",
              "    0% {\n",
              "      border-color: transparent;\n",
              "      border-bottom-color: var(--fill-color);\n",
              "      border-left-color: var(--fill-color);\n",
              "    }\n",
              "    20% {\n",
              "      border-color: transparent;\n",
              "      border-left-color: var(--fill-color);\n",
              "      border-top-color: var(--fill-color);\n",
              "    }\n",
              "    30% {\n",
              "      border-color: transparent;\n",
              "      border-left-color: var(--fill-color);\n",
              "      border-top-color: var(--fill-color);\n",
              "      border-right-color: var(--fill-color);\n",
              "    }\n",
              "    40% {\n",
              "      border-color: transparent;\n",
              "      border-right-color: var(--fill-color);\n",
              "      border-top-color: var(--fill-color);\n",
              "    }\n",
              "    60% {\n",
              "      border-color: transparent;\n",
              "      border-right-color: var(--fill-color);\n",
              "    }\n",
              "    80% {\n",
              "      border-color: transparent;\n",
              "      border-right-color: var(--fill-color);\n",
              "      border-bottom-color: var(--fill-color);\n",
              "    }\n",
              "    90% {\n",
              "      border-color: transparent;\n",
              "      border-bottom-color: var(--fill-color);\n",
              "    }\n",
              "  }\n",
              "</style>\n",
              "\n",
              "  <script>\n",
              "    async function quickchart(key) {\n",
              "      const quickchartButtonEl =\n",
              "        document.querySelector('#' + key + ' button');\n",
              "      quickchartButtonEl.disabled = true;  // To prevent multiple clicks.\n",
              "      quickchartButtonEl.classList.add('colab-df-spinner');\n",
              "      try {\n",
              "        const charts = await google.colab.kernel.invokeFunction(\n",
              "            'suggestCharts', [key], {});\n",
              "      } catch (error) {\n",
              "        console.error('Error during call to suggestCharts:', error);\n",
              "      }\n",
              "      quickchartButtonEl.classList.remove('colab-df-spinner');\n",
              "      quickchartButtonEl.classList.add('colab-df-quickchart-complete');\n",
              "    }\n",
              "    (() => {\n",
              "      let quickchartButtonEl =\n",
              "        document.querySelector('#df-8913b6eb-7172-4f4f-a982-e60f107a8af4 button');\n",
              "      quickchartButtonEl.style.display =\n",
              "        google.colab.kernel.accessAllowed ? 'block' : 'none';\n",
              "    })();\n",
              "  </script>\n",
              "</div>\n",
              "    </div>\n",
              "  </div>\n"
            ]
          },
          "metadata": {},
          "execution_count": 26
        }
      ]
    },
    {
      "cell_type": "code",
      "source": [
        "#Since we cant use multiple labels based on different LFs, we can combine\n",
        "#the outputs to get 1 final label"
      ],
      "metadata": {
        "id": "71Yr9cSBT1x5"
      },
      "execution_count": 27,
      "outputs": []
    },
    {
      "cell_type": "code",
      "source": [
        "L_train"
      ],
      "metadata": {
        "colab": {
          "base_uri": "https://localhost:8080/"
        },
        "id": "MQ5P7K-aWJg6",
        "outputId": "ea20c766-e14c-4ff8-8c2e-5994d61f0981"
      },
      "execution_count": 45,
      "outputs": [
        {
          "output_type": "execute_result",
          "data": {
            "text/plain": [
              "array([[-1, -1,  1, ..., -1, -1, -1],\n",
              "       [-1,  1, -1, ..., -1, -1,  0],\n",
              "       [-1, -1, -1, ..., -1, -1, -1],\n",
              "       ...,\n",
              "       [ 1,  1, -1, ..., -1, -1,  0],\n",
              "       [-1,  1, -1, ..., -1, -1,  0],\n",
              "       [ 1, -1, -1, ..., -1, -1, -1]])"
            ]
          },
          "metadata": {},
          "execution_count": 45
        }
      ]
    },
    {
      "cell_type": "markdown",
      "source": [
        "### Majority-Vote-based Model"
      ],
      "metadata": {
        "id": "wWdZH2WbUbkD"
      }
    },
    {
      "cell_type": "code",
      "source": [
        "# Our goal is now to convert the labels from our LFs into\n",
        "# a single noise-aware probabilistic (or confidence-weighted)\n",
        "# label per data point"
      ],
      "metadata": {
        "id": "tFnoBuhwUXyS"
      },
      "execution_count": 28,
      "outputs": []
    },
    {
      "cell_type": "code",
      "source": [
        "from snorkel.labeling.model import MajorityLabelVoter\n",
        "\n",
        "majority_model = MajorityLabelVoter()\n",
        "preds_train = majority_model.predict(L=L_train)\n",
        "\n",
        "preds_train"
      ],
      "metadata": {
        "colab": {
          "base_uri": "https://localhost:8080/"
        },
        "id": "DNW2ufsjUgmL",
        "outputId": "bf5e7d4a-525b-4bc1-ac04-54e1eb818551"
      },
      "execution_count": 29,
      "outputs": [
        {
          "output_type": "execute_result",
          "data": {
            "text/plain": [
              "array([ 1,  1, -1, ...,  1,  1,  1])"
            ]
          },
          "metadata": {},
          "execution_count": 29
        }
      ]
    },
    {
      "cell_type": "markdown",
      "source": [
        "### Confiedence-weighted Label Model"
      ],
      "metadata": {
        "id": "o6IpRehaUsmJ"
      }
    },
    {
      "cell_type": "code",
      "source": [
        "# Our LFs have varying properties and should not be treated identically.\n",
        "# LFs may be correlated, resulting in certain signals being overrepresented in a majority-vote-based model.\n",
        "# To handle this, we use a more sophisticated Snorkel LabelModel to combine LF outputs.\n",
        "\n",
        "# This model will ultimately produce a single set of noise-aware training labels,\n",
        "# which are probabilistic or confidence-weighted labels"
      ],
      "metadata": {
        "id": "ge4QJcwsUmd_"
      },
      "execution_count": 30,
      "outputs": []
    },
    {
      "cell_type": "code",
      "source": [
        "from snorkel.labeling.model import LabelModel\n",
        "\n",
        "label_model = LabelModel(cardinality=2, verbose=True)\n",
        "label_model.fit(L_train=L_train, n_epochs=500, log_freq=100, seed=123)\n",
        "\n",
        "probs_train = label_model.predict_proba(L=L_train)\n",
        "probs_train"
      ],
      "metadata": {
        "colab": {
          "base_uri": "https://localhost:8080/"
        },
        "id": "EwVCv2nFUqir",
        "outputId": "994f7d5a-9138-4f7e-f913-77a20453be9f"
      },
      "execution_count": 31,
      "outputs": [
        {
          "output_type": "stream",
          "name": "stderr",
          "text": [
            "100%|██████████| 500/500 [00:01<00:00, 395.00epoch/s]\n"
          ]
        },
        {
          "output_type": "execute_result",
          "data": {
            "text/plain": [
              "array([[6.57400061e-01, 3.42599939e-01],\n",
              "       [2.25180862e-06, 9.99997748e-01],\n",
              "       [5.00000000e-01, 5.00000000e-01],\n",
              "       ...,\n",
              "       [2.27481634e-07, 9.99999773e-01],\n",
              "       [1.08918560e-03, 9.98910814e-01],\n",
              "       [1.22570277e-08, 9.99999988e-01]])"
            ]
          },
          "metadata": {},
          "execution_count": 31
        }
      ]
    },
    {
      "cell_type": "code",
      "source": [
        "#Compare the two\n",
        "majority_acc = majority_model.score(L=L_test, Y=Y_test, tie_break_policy=\"random\")[\n",
        "    \"accuracy\"\n",
        "]\n",
        "print(f\"{'Majority Vote Accuracy:':<25} {majority_acc * 100:.1f}%\")\n",
        "\n",
        "label_model_acc = label_model.score(L=L_test, Y=Y_test, tie_break_policy=\"random\")[\n",
        "    \"accuracy\"\n",
        "]\n",
        "print(f\"{'Label Model Accuracy:':<25} {label_model_acc * 100:.1f}%\")"
      ],
      "metadata": {
        "colab": {
          "base_uri": "https://localhost:8080/"
        },
        "id": "iRfmY7xYUu1x",
        "outputId": "4fdc8eec-1a22-425e-c9ca-36dea27e0a6c"
      },
      "execution_count": 32,
      "outputs": [
        {
          "output_type": "stream",
          "name": "stdout",
          "text": [
            "Majority Vote Accuracy:   84.4%\n",
            "Label Model Accuracy:     87.6%\n"
          ]
        }
      ]
    },
    {
      "cell_type": "code",
      "source": [
        "#Some datapoints didnt get classified for any label, so we filter them out.\n",
        "from snorkel.labeling import filter_unlabeled_dataframe\n",
        "\n",
        "df_train_filtered, probs_train_filtered = filter_unlabeled_dataframe(\n",
        "    X=df_train, y=probs_train, L=L_train\n",
        ")"
      ],
      "metadata": {
        "id": "tnLV3nfNVTjE"
      },
      "execution_count": 34,
      "outputs": []
    },
    {
      "cell_type": "code",
      "source": [
        "#Using the model to classify\n",
        "\n",
        "from sklearn.feature_extraction.text import CountVectorizer\n",
        "\n",
        "vectorizer = CountVectorizer(ngram_range=(1, 5))\n",
        "X_train = vectorizer.fit_transform(df_train_filtered.text.tolist())\n",
        "X_test = vectorizer.transform(df_test.text.tolist())"
      ],
      "metadata": {
        "id": "_tfECYQbVXYT"
      },
      "execution_count": 35,
      "outputs": []
    },
    {
      "cell_type": "code",
      "source": [
        "from snorkel.utils import probs_to_preds\n",
        "preds_train_filtered = probs_to_preds(probs=probs_train_filtered)"
      ],
      "metadata": {
        "id": "k8r0GCl7VkyT"
      },
      "execution_count": 36,
      "outputs": []
    },
    {
      "cell_type": "code",
      "source": [
        "from sklearn.linear_model import LogisticRegression\n",
        "\n",
        "sklearn_model = LogisticRegression(C=1e3, solver=\"liblinear\")\n",
        "sklearn_model.fit(X=X_train, y=preds_train_filtered)"
      ],
      "metadata": {
        "colab": {
          "base_uri": "https://localhost:8080/",
          "height": 74
        },
        "id": "NaqlUX9nVmQV",
        "outputId": "634fa460-4a87-4f76-d107-d43983fddcca"
      },
      "execution_count": 37,
      "outputs": [
        {
          "output_type": "execute_result",
          "data": {
            "text/plain": [
              "LogisticRegression(C=1000.0, solver='liblinear')"
            ],
            "text/html": [
              "<style>#sk-container-id-1 {color: black;background-color: white;}#sk-container-id-1 pre{padding: 0;}#sk-container-id-1 div.sk-toggleable {background-color: white;}#sk-container-id-1 label.sk-toggleable__label {cursor: pointer;display: block;width: 100%;margin-bottom: 0;padding: 0.3em;box-sizing: border-box;text-align: center;}#sk-container-id-1 label.sk-toggleable__label-arrow:before {content: \"▸\";float: left;margin-right: 0.25em;color: #696969;}#sk-container-id-1 label.sk-toggleable__label-arrow:hover:before {color: black;}#sk-container-id-1 div.sk-estimator:hover label.sk-toggleable__label-arrow:before {color: black;}#sk-container-id-1 div.sk-toggleable__content {max-height: 0;max-width: 0;overflow: hidden;text-align: left;background-color: #f0f8ff;}#sk-container-id-1 div.sk-toggleable__content pre {margin: 0.2em;color: black;border-radius: 0.25em;background-color: #f0f8ff;}#sk-container-id-1 input.sk-toggleable__control:checked~div.sk-toggleable__content {max-height: 200px;max-width: 100%;overflow: auto;}#sk-container-id-1 input.sk-toggleable__control:checked~label.sk-toggleable__label-arrow:before {content: \"▾\";}#sk-container-id-1 div.sk-estimator input.sk-toggleable__control:checked~label.sk-toggleable__label {background-color: #d4ebff;}#sk-container-id-1 div.sk-label input.sk-toggleable__control:checked~label.sk-toggleable__label {background-color: #d4ebff;}#sk-container-id-1 input.sk-hidden--visually {border: 0;clip: rect(1px 1px 1px 1px);clip: rect(1px, 1px, 1px, 1px);height: 1px;margin: -1px;overflow: hidden;padding: 0;position: absolute;width: 1px;}#sk-container-id-1 div.sk-estimator {font-family: monospace;background-color: #f0f8ff;border: 1px dotted black;border-radius: 0.25em;box-sizing: border-box;margin-bottom: 0.5em;}#sk-container-id-1 div.sk-estimator:hover {background-color: #d4ebff;}#sk-container-id-1 div.sk-parallel-item::after {content: \"\";width: 100%;border-bottom: 1px solid gray;flex-grow: 1;}#sk-container-id-1 div.sk-label:hover label.sk-toggleable__label {background-color: #d4ebff;}#sk-container-id-1 div.sk-serial::before {content: \"\";position: absolute;border-left: 1px solid gray;box-sizing: border-box;top: 0;bottom: 0;left: 50%;z-index: 0;}#sk-container-id-1 div.sk-serial {display: flex;flex-direction: column;align-items: center;background-color: white;padding-right: 0.2em;padding-left: 0.2em;position: relative;}#sk-container-id-1 div.sk-item {position: relative;z-index: 1;}#sk-container-id-1 div.sk-parallel {display: flex;align-items: stretch;justify-content: center;background-color: white;position: relative;}#sk-container-id-1 div.sk-item::before, #sk-container-id-1 div.sk-parallel-item::before {content: \"\";position: absolute;border-left: 1px solid gray;box-sizing: border-box;top: 0;bottom: 0;left: 50%;z-index: -1;}#sk-container-id-1 div.sk-parallel-item {display: flex;flex-direction: column;z-index: 1;position: relative;background-color: white;}#sk-container-id-1 div.sk-parallel-item:first-child::after {align-self: flex-end;width: 50%;}#sk-container-id-1 div.sk-parallel-item:last-child::after {align-self: flex-start;width: 50%;}#sk-container-id-1 div.sk-parallel-item:only-child::after {width: 0;}#sk-container-id-1 div.sk-dashed-wrapped {border: 1px dashed gray;margin: 0 0.4em 0.5em 0.4em;box-sizing: border-box;padding-bottom: 0.4em;background-color: white;}#sk-container-id-1 div.sk-label label {font-family: monospace;font-weight: bold;display: inline-block;line-height: 1.2em;}#sk-container-id-1 div.sk-label-container {text-align: center;}#sk-container-id-1 div.sk-container {/* jupyter's `normalize.less` sets `[hidden] { display: none; }` but bootstrap.min.css set `[hidden] { display: none !important; }` so we also need the `!important` here to be able to override the default hidden behavior on the sphinx rendered scikit-learn.org. See: https://github.com/scikit-learn/scikit-learn/issues/21755 */display: inline-block !important;position: relative;}#sk-container-id-1 div.sk-text-repr-fallback {display: none;}</style><div id=\"sk-container-id-1\" class=\"sk-top-container\"><div class=\"sk-text-repr-fallback\"><pre>LogisticRegression(C=1000.0, solver=&#x27;liblinear&#x27;)</pre><b>In a Jupyter environment, please rerun this cell to show the HTML representation or trust the notebook. <br />On GitHub, the HTML representation is unable to render, please try loading this page with nbviewer.org.</b></div><div class=\"sk-container\" hidden><div class=\"sk-item\"><div class=\"sk-estimator sk-toggleable\"><input class=\"sk-toggleable__control sk-hidden--visually\" id=\"sk-estimator-id-1\" type=\"checkbox\" checked><label for=\"sk-estimator-id-1\" class=\"sk-toggleable__label sk-toggleable__label-arrow\">LogisticRegression</label><div class=\"sk-toggleable__content\"><pre>LogisticRegression(C=1000.0, solver=&#x27;liblinear&#x27;)</pre></div></div></div></div></div>"
            ]
          },
          "metadata": {},
          "execution_count": 37
        }
      ]
    },
    {
      "cell_type": "code",
      "source": [
        "print(f\"Test Accuracy: {sklearn_model.score(X=X_test, y=Y_test) * 100:.1f}%\")"
      ],
      "metadata": {
        "colab": {
          "base_uri": "https://localhost:8080/"
        },
        "id": "Gm6a3fFPVoVw",
        "outputId": "82c24f45-7cbd-4f42-c902-57a48a589667"
      },
      "execution_count": 38,
      "outputs": [
        {
          "output_type": "stream",
          "name": "stdout",
          "text": [
            "Test Accuracy: 93.6%\n"
          ]
        }
      ]
    },
    {
      "cell_type": "code",
      "source": [
        "#Predictions\n",
        "import pandas as pd\n",
        "\n",
        "new_review = ['check out my channel. it is the best',\n",
        "              'your channel is the best']\n",
        "df = pd.DataFrame(new_review, columns=['review'])\n",
        "df = vectorizer.transform(df['review'])\n",
        "results = sklearn_model.predict(df)"
      ],
      "metadata": {
        "id": "Fyn0-4JVVqWz"
      },
      "execution_count": 39,
      "outputs": []
    },
    {
      "cell_type": "code",
      "source": [
        "i=0\n",
        "for item in results:\n",
        "  i+=1\n",
        "  if item ==0:\n",
        "    print(f'Review #{i} is ham')\n",
        "  else:\n",
        "    print(f'Review #{i} is spam')"
      ],
      "metadata": {
        "colab": {
          "base_uri": "https://localhost:8080/"
        },
        "id": "wzQTUMr0VvW4",
        "outputId": "65256b8e-9d8a-4bbd-f377-34c44e896ea0"
      },
      "execution_count": 41,
      "outputs": [
        {
          "output_type": "stream",
          "name": "stdout",
          "text": [
            "Review #1 is spam\n",
            "Review #2 is ham\n"
          ]
        }
      ]
    },
    {
      "cell_type": "code",
      "source": [],
      "metadata": {
        "id": "XpOvUtJ3VvuQ"
      },
      "execution_count": null,
      "outputs": []
    }
  ]
}